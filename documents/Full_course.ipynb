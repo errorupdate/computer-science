{
 "cells": [
  {
   "cell_type": "markdown",
   "metadata": {},
   "source": [
    "# Chapter 1\n",
    "### Starting with Python:  expand your existing programming skills into exciting cutting-edge technologies like artificial intelligence (AI), machine learning (ML), data science, or robotics, or even if you’re just building apps in general.\n"
   ]
  },
  {
   "cell_type": "markdown",
   "metadata": {},
   "source": [
    "### Why Python\n",
    "- Python is relatively easy to learn\n",
    "- Everything you need to learn (and do) Python is free\n",
    "- Python offers more ready_made tools for current hot technologies like data science, machine learning, artificial intelligence and robotics than most other languages.\n"
   ]
  },
  {
   "cell_type": "markdown",
   "metadata": {},
   "source": [
    "# INvention of Python\n",
    "Python was created by Guido van Rossum and was first released in 1991. He designed it as a successor to the ABC programming language, aiming to make it easy to read and use. Guido continued to lead the development of Python for many years and is often referred to as Python's \"Benevolent Dictator For Life\" (BDFL) until he stepped down from that role in 2018"
   ]
  },
  {
   "cell_type": "markdown",
   "metadata": {},
   "source": [
    "## An excellent , free learning environment\n",
    "- It is an excellent editor for learning coding.\n",
    "- It is an excellent editor for writing code professionally, and is in fact used millions of professional programmers and developers.\n",
    "- it's relatively easy to learn and use. \n",
    "- it works pretty much the same on Windows, mac and Linux\n",
    "- it's free\n"
   ]
  },
  {
   "cell_type": "markdown",
   "metadata": {
    "vscode": {
     "languageId": "javascript"
    }
   },
   "source": [
    "## Indentation Count\n",
    "- Defines Code Blocks: Indentation is used to define the structure of code blocks, such as those for functions, loops, and conditionals. It indicates which statements belong to which block.\n",
    "- Consistency is Key: Python requires consistent use of either spaces or tabs for indentation within the same block. Mixing spaces and tabs can lead to IndentationError.\n",
    "- Standard Practice: The Python community recommends using 4 spaces per indentation level, as per the PEP 8 style guide, to enhance readability and maintainability.\n",
    "- Improves Readability: Proper indentation improves the readability of code, making it easier to understand the flow and hierarchy of the program.\n",
    "- Syntax Errors: Incorrect indentation can lead to syntax errors, such as IndentationError or SyntaxError, causing the program to fail or behave unexpectedly.\n"
   ]
  },
  {
   "cell_type": "markdown",
   "metadata": {},
   "source": [
    "# Understanding Python data Types\n"
   ]
  },
  {
   "cell_type": "markdown",
   "metadata": {},
   "source": [
    "## Numbers\n",
    "- Numbers in Python must start with a number digit, (0-9)\n",
    "- hyphen (-) used as a negative sign for negative numbers.\n",
    "- A number can contain only one decimal point. It should contain no letters, spaces,dollar signs, or anything else that isn’t part of a normal number.\n",
    "ex: 1, 1.1 1234455.89 , -2, .99"
   ]
  },
  {
   "cell_type": "markdown",
   "metadata": {},
   "source": [
    "## "
   ]
  },
  {
   "cell_type": "markdown",
   "metadata": {},
   "source": [
    "## Integer\n",
    "- An integer is any whole number, positive or negative. There is no limit to its size.\n",
    "- Numbers like 0, -1, and 999999999999999 are all perfectly valid integers. \n",
    "- From your perspective, an integer is just any valid number that doesn’t contain a decimal point."
   ]
  },
  {
   "cell_type": "markdown",
   "metadata": {},
   "source": [
    "## Floats\n",
    "- A floating point number, often called a float for short, is just any valid number that contains a decimal point.\n",
    "- There is no size limit, 1.1 and -1.1 and 123456.789012345 are perfectly valid numbers.\n",
    "-  234e3 is 234,000 (replace the e3 with 3 zeroes)."
   ]
  },
  {
   "cell_type": "markdown",
   "metadata": {},
   "source": [
    "## Complex Numbers\n",
    "- Can be expressed as an integer or float.\n",
    "- it has real and imaginary components. \n"
   ]
  },
  {
   "cell_type": "markdown",
   "metadata": {},
   "source": [
    "## Words (string)\n",
    "- A string is considered to be a number and cannot contain a decimal point or a string containing more than one decimal point will be considered to be a number and cannot contain more than one decimal point containing more than one decimal point containing a string containing more than one decimal point containing a string containing more than one decimal point containing a string containing more than one decimal point containing a string containing more than one decimal point containing a string containing more than one decimal.\n",
    "- \" Hi there, I am string \"\n",
    "- \" Hello world \"\n",
    "- \" 123 Oak tree Lane \"\n",
    "- \" (267)555-1234 \"\n",
    "- \" 18901 - 3384 \"\n",
    "- \" Mary's dog said Woof \"\n",
    "- ' Mary's dog said woof '\n",
    "- ' The dog of Mary said \"woof\"'\n",
    "-  Mary's said \"woof\". \n",
    "- ' Mary\\'s dog said \"woof\". '\n",
    "- \" Mary's dog said \\\"woof\\\".\"\n",
    "- \" The old Pond\\nA frog jumped in , \\nKerplunk! \"\n"
   ]
  },
  {
   "cell_type": "markdown",
   "metadata": {},
   "source": [
    "## True or False Boolean\n",
    "- There is third data type in python that isn't exactly a number or a string.\n",
    "- Boolean ( named after a mathematician named george boole)\n",
    "- it can be one of two values: either 'True' or 'False"
   ]
  },
  {
   "cell_type": "markdown",
   "metadata": {},
   "source": [
    "# Operators in Python\n",
    "- any necessary math or comparisons\n",
    "or searches or whatever to help you find information and organize"
   ]
  },
  {
   "cell_type": "markdown",
   "metadata": {},
   "source": [
    "# Arithmetic Operators\n",
    "+ -> Addition -> 1 + 1 = 2\n",
    "- -> Subtraction -> 10 - 1 = 9\n",
    "* -> Multiply -> 10 * 1 = 10\n",
    "/ -> Divide -> 10 / 5 = 2\n",
    "% -> Modulus -> 10 % 3 = 1\n",
    "** -> Exponent -> 3 ** 2 = 9\n",
    "// -> Floor Division -> 11//5 = 2\n",
    "** -> Ceiling Division -> 11//5 = 3\n",
    "- The modulus is the remainder after division. so, for example, 11 % 5 is 1 because if you divide 11 by 2 you get 5 remainder 1. That 1 is the modulus a (sometimes call modulo)\n",
    "- The exponent is ** because you can't type a small raised number in code. But it just mean \"raised to the power of\".\n",
    "- Floor division, indicated by //, is integer division in that anything after the decimal point is truncated (ignored). "
   ]
  },
  {
   "cell_type": "markdown",
   "metadata": {},
   "source": [
    "## Comparison operator\n",
    "- < --> less than \n",
    "- <= --> less than or equal to\n",
    "- > --> Greater than \n",
    "- >= --> Greater than or equal to\n",
    "- == --> equal to\n",
    "- != --> Not equal to\n",
    "- is --> Object identity\n",
    "- is not --> Negated object identity"
   ]
  },
  {
   "cell_type": "markdown",
   "metadata": {},
   "source": [
    "## Boolean operator\n",
    "- The boolean operators work with Boolean values (True or False) are used to determine if one or more thing is True or False.\n",
    "- or --> x or y --> Either x or y is true\n",
    "- and --> x and y --> Both x and y are true\n",
    "- not --> not x --> x is not full"
   ]
  },
  {
   "cell_type": "markdown",
   "metadata": {},
   "source": [
    "## Creating and Using Variables\n",
    "Variables are used to store values in a program. You can think of a variable as a labeled box"
   ]
  },
  {
   "cell_type": "markdown",
   "metadata": {},
   "source": [
    "## Creating valid names\n",
    "- The variables name must start with a letter or underscore(_). \n",
    "- After the first letter you can use letters, numbers, or underscores\n",
    "- Variable name are case-sensitive, so once you make up name, any other references to that variable must use the same uppercase and lowercase letters as the name you originally made up.\n",
    "- Variables names cannot be enclosed in or contain single or double quotation marks\n",
    "- PEP 8 style conventions recommend using only lowercase letters in variable name, use an underscore to separate multiple words in the variable name.\n",
    "- Camel caps formatting - whereby the first letter is made lowercase and new words are capitalized instead separated by spaces.\n",
    "- example: unit_price, extended_price, extendedPrice"
   ]
  },
  {
   "cell_type": "markdown",
   "metadata": {},
   "source": [
    "camelCase, radius_Circle, _radius_Circle, _radius_Circle, radius, Radius "
   ]
  },
  {
   "cell_type": "markdown",
   "metadata": {},
   "source": [
    "## Creating variables in code\n",
    "- Syntax : variableName = value\n",
    "- variableName is the name you make up \n",
    "- ex : x, y, z or userName, user_name\n",
    "- The value is whatever you want to store in the variable .It can be a number ,string , or Boolean true or false.\n",
    "- ex : 5, “hello”, true\n",
    "- The = sign in the assignment operator is so named because it assign the value ( on the right ) to the variable (on the left)\n",
    "- Example : x = 10, user_name = \"uttam\"\n"
   ]
  },
  {
   "cell_type": "markdown",
   "metadata": {},
   "source": [
    "## Manipulating variables\n",
    "- Under the line that reads # This is a Python comment in my first Python app., type this comment # This variable contains an integer.\n",
    "- Press Enter, type quantity = 10 (don’t forget to put a space before and after the = sign), and press Enter.\n",
    "- Type # This variable contains a float and press Enter again.\n",
    "- Type unit_price = 1.99 and press Enter again (don’t type a dollar sign!).\n",
    "- Type # This variable contains the result of multiplying quantity times unit price and press Enter.\n",
    "- Type extended_price = quantity * unit_price (again with spaces around the operators) and press Enter.\n",
    "- Type # Show the results and press Enter.\n",
    "- Type print(extended_price) and press Enter"
   ]
  },
  {
   "cell_type": "markdown",
   "metadata": {},
   "source": []
  },
  {
   "cell_type": "code",
   "execution_count": 2,
   "metadata": {},
   "outputs": [
    {
     "name": "stdout",
     "output_type": "stream",
     "text": [
      "10\n",
      "1.99\n",
      "19.9\n",
      "100\n"
     ]
    }
   ],
   "source": [
    "# This is python comment in first python code\n",
    "# This variable contains the integer.\n",
    "quantity = 10\n",
    "# a = 5\n",
    "# b = 10\n",
    "# b = a\n",
    "# This variable contains a float\n",
    "unit_price = 1.99\n",
    "# This variable contains the result of multiplying quantity times unit price \n",
    "extended_price = quantity * unit_price\n",
    "# show results\n",
    "# print(extended_price)\n",
    "print(quantity)\n",
    "print(unit_price)\n",
    "print(extended_price)\n",
    "x = 10\n",
    "print(x**2)"
   ]
  },
  {
   "cell_type": "code",
   "execution_count": 6,
   "metadata": {},
   "outputs": [
    {
     "name": "stdout",
     "output_type": "stream",
     "text": [
      "Computer Science\n",
      "10 5\n",
      "15\n"
     ]
    }
   ],
   "source": [
    "print(\"Computer Science\")\n",
    "x = 10\n",
    "y = 5\n",
    "print(x,y)\n",
    "print(x+y)"
   ]
  },
  {
   "cell_type": "code",
   "execution_count": null,
   "metadata": {},
   "outputs": [],
   "source": []
  },
  {
   "cell_type": "code",
   "execution_count": null,
   "metadata": {},
   "outputs": [],
   "source": []
  },
  {
   "cell_type": "code",
   "execution_count": null,
   "metadata": {},
   "outputs": [],
   "source": []
  },
  {
   "cell_type": "code",
   "execution_count": null,
   "metadata": {},
   "outputs": [],
   "source": []
  },
  {
   "cell_type": "code",
   "execution_count": null,
   "metadata": {},
   "outputs": [],
   "source": []
  },
  {
   "cell_type": "code",
   "execution_count": null,
   "metadata": {},
   "outputs": [],
   "source": []
  },
  {
   "cell_type": "code",
   "execution_count": null,
   "metadata": {},
   "outputs": [],
   "source": []
  },
  {
   "cell_type": "code",
   "execution_count": null,
   "metadata": {},
   "outputs": [],
   "source": []
  },
  {
   "cell_type": "code",
   "execution_count": null,
   "metadata": {},
   "outputs": [],
   "source": []
  },
  {
   "cell_type": "markdown",
   "metadata": {},
   "source": [
    "# Calculating Numbers With Function\n",
    "- Syntax : variableName = functionName(parameter)\n",
    "- Example : `x = abs(-5)` calculates the absolute value of -5 and assigns it\n"
   ]
  },
  {
   "cell_type": "code",
   "execution_count": 3,
   "metadata": {},
   "outputs": [
    {
     "name": "stdout",
     "output_type": "stream",
     "text": [
      "-4\n",
      "4\n"
     ]
    }
   ],
   "source": [
    "x = -4\n",
    "y = abs(x)\n",
    "print(x)\n",
    "print(y)"
   ]
  },
  {
   "cell_type": "markdown",
   "metadata": {},
   "source": [
    "# some Built-in Python function\n",
    "- abs(x) = return the absolute value of number x\n",
    "- bin(x) = return a string representing the value of x converted to binary.\n",
    "- float(x) = convert a string or a number x to the float data type\n",
    "- hex(x) = Returns a string containing x converted to hexadecimal, prefixed with 0x\n",
    "- int(x) = convert x to integer data type.\n",
    "- max(x,y,z) = Takes any number of arguments return the largest number\n",
    "- min(x,y,z) = Takes any number of arguments return the smallest  number\n",
    "- oct(x) = Convert x to an octal number, prefixed with 0o to indicate octal\n",
    "- round(x,y) =  Round the number x to y number of decimal place\n",
    "- str(x) = converts number x to the string data type\n",
    "type(x) = returns the data type of the variable\n"
   ]
  },
  {
   "cell_type": "code",
   "execution_count": 11,
   "metadata": {},
   "outputs": [
    {
     "name": "stdout",
     "output_type": "stream",
     "text": [
      "101\n"
     ]
    }
   ],
   "source": [
    "\n",
    "y = 5\n",
    "bin_rep = bin(y) [2:]\n",
    "print(bin_rep)\n"
   ]
  },
  {
   "cell_type": "code",
   "execution_count": null,
   "metadata": {},
   "outputs": [],
   "source": []
  },
  {
   "cell_type": "code",
   "execution_count": null,
   "metadata": {},
   "outputs": [],
   "source": []
  },
  {
   "cell_type": "code",
   "execution_count": null,
   "metadata": {},
   "outputs": [],
   "source": []
  },
  {
   "cell_type": "code",
   "execution_count": null,
   "metadata": {},
   "outputs": [],
   "source": []
  },
  {
   "cell_type": "code",
   "execution_count": null,
   "metadata": {},
   "outputs": [],
   "source": []
  },
  {
   "cell_type": "code",
   "execution_count": 4,
   "metadata": {},
   "outputs": [
    {
     "name": "stdout",
     "output_type": "stream",
     "text": [
      "999.9999\n",
      "-999\n",
      "999\n",
      "3.1416\n",
      "0b10000000\n",
      "0x80\n",
      "0o200\n",
      "128\n",
      "-999.9999\n",
      "<class 'float'>\n",
      "<class 'str'>\n"
     ]
    }
   ],
   "source": [
    "pi = 3.14159265358979\n",
    "x = 128\n",
    "y = -345.6789087\n",
    "z = -999.9999\n",
    "print(abs(z))\n",
    "print(int(z))\n",
    "print(int(abs(z)))\n",
    "print(round(pi,4))\n",
    "print(bin(x))\n",
    "print(hex(x))\n",
    "print(oct(x))\n",
    "print(max(pi,x,y,z))\n",
    "print(min(pi,x,y,z))\n",
    "print(type(pi))\n",
    "print(type(str(y)))"
   ]
  },
  {
   "cell_type": "code",
   "execution_count": 5,
   "metadata": {},
   "outputs": [
    {
     "name": "stdout",
     "output_type": "stream",
     "text": [
      "9.0\n"
     ]
    }
   ],
   "source": [
    "import math \n",
    "z = 81\n",
    "print(math.sqrt(z))\n"
   ]
  },
  {
   "cell_type": "markdown",
   "metadata": {},
   "source": [
    "# More math function\n",
    "- math.acos(x) Returns the arc cosine of x in radians.\n",
    "- math.atan(x) Returns the arc tangent of x, in radians.\n",
    "- math.atan2(y, x) Returns atan(y / x), in radians.\n",
    "- math.ceil(x) Returns the ceiling of x, the smallest integer greater than or equal to x.\n",
    "- math.cos(x) Returns the cosine of x radians.\n",
    "- math.degrees(x) Converts angle x from radians to degrees.\n",
    "- math.e Returns the mathematical constant e (2.718281 . . .).\n",
    "- math.exp(x) Returns e raised to the power x, where e is the base of natural logarithms.\n",
    "- math.factorial(x) Returns the factorial of x.\n",
    "- math.floor() Returns the floor of x, the largest integer less than or equal to x.\n",
    "- math.isnan(x) Returns True if x is not a number, otherwise returns False.\n",
    "- math.log(x,y) Returns the natural logarithm of x to base y.\n",
    "- math.log2(x) Returns the base-2 logarithm of x.\n",
    "- math.pi Returns the mathematical constant pi (3.141592 . . .).\n",
    "- math.pow(x, y) Returns x raised to the power y.\n",
    "- math.radians(x) Converts angle x from degrees to radians.\n",
    "- math.sin(x) Returns the arc sine of x, in radians.\n",
    "- math.sqrt(x) Takes any number of numeric arguments and returns whichever one is\n",
    "- the smallest.\n",
    "- math.tan(x) Returns the tangent of x radians.\n",
    "- math.tau() Returns the mathematical constant tau (6.283185 . . .)."
   ]
  },
  {
   "cell_type": "code",
   "execution_count": 6,
   "metadata": {},
   "outputs": [
    {
     "name": "stdout",
     "output_type": "stream",
     "text": [
      "3.141592653589793\n",
      "2.718281828459045\n",
      "6.283185307179586\n",
      "9.0\n",
      "5040\n",
      "-23235\n",
      "401.07045659157626\n",
      "0.7853981633974483\n"
     ]
    }
   ],
   "source": [
    "import math\n",
    "pi = math.pi\n",
    "e = math.e\n",
    "tau = math.tau\n",
    "x = 81\n",
    "y = 7\n",
    "z = -23234.5454\n",
    "print(pi)\n",
    "print(e)\n",
    "print(tau)\n",
    "print(math.sqrt(x))\n",
    "print(math.factorial(y))\n",
    "print(math.floor(z))\n",
    "print(math.degrees(y))\n",
    "print(math.radians(45))"
   ]
  },
  {
   "cell_type": "markdown",
   "metadata": {},
   "source": [
    "## Formatting with f-strings\n",
    "- F-string formatting is relatively simple to do. All you need is a lowercase or\n",
    "uppercase f followed immediately by some text or expressions enclosed in quota-\n",
    "tion marks\n"
   ]
  },
  {
   "cell_type": "code",
   "execution_count": 7,
   "metadata": {},
   "outputs": [
    {
     "name": "stdout",
     "output_type": "stream",
     "text": [
      "Hello Uttam\n"
     ]
    }
   ],
   "source": [
    "username = \"Uttam\"\n",
    "print(f\"Hello {username}\")"
   ]
  },
  {
   "cell_type": "code",
   "execution_count": 15,
   "metadata": {},
   "outputs": [
    {
     "name": "stdout",
     "output_type": "stream",
     "text": [
      "Computer Science\n",
      "computer science\n"
     ]
    }
   ],
   "source": [
    "print(\"Computer Science\")\n",
    "a = \"computer science\"\n",
    "print(a)"
   ]
  },
  {
   "cell_type": "markdown",
   "metadata": {},
   "source": [
    "# integer"
   ]
  },
  {
   "cell_type": "code",
   "execution_count": 18,
   "metadata": {},
   "outputs": [
    {
     "name": "stdout",
     "output_type": "stream",
     "text": [
      "10 -5 0 10 10 10\n",
      "5\n"
     ]
    }
   ],
   "source": [
    "a = 10          # Decimal integer\n",
    "b = -5          # Negative integer\n",
    "c = 0           # Zero\n",
    "d = 0b1010      # Binary representation (10 in decimal)\n",
    "e = 0o12        # Octal representation (10 in decimal)\n",
    "f = 0xA         # Hexadecimal representation (10 in decimal)\n",
    "print(a, b, c, d, e, f)\n",
    "print(a+b+c)"
   ]
  },
  {
   "cell_type": "markdown",
   "metadata": {},
   "source": [
    "# Basic usage example\n"
   ]
  },
  {
   "cell_type": "code",
   "execution_count": 20,
   "metadata": {},
   "outputs": [
    {
     "name": "stdout",
     "output_type": "stream",
     "text": [
      "Sum: 11\n",
      "Difference: -1\n",
      "Product: 30\n",
      "Quotient: 0.8333333333333334\n",
      "Floor Division: 0\n",
      "Remainder: 5\n",
      "Power: 15625\n",
      "11\n"
     ]
    }
   ],
   "source": [
    "# Define two integers\n",
    "a = 20\n",
    "b = 10\n",
    "\n",
    "# Perform arithmetic operations\n",
    "sum_result = a + b\n",
    "difference = a - b\n",
    "product = a * b\n",
    "quotient = a / b\n",
    "floor_div = a // b\n",
    "remainder = a % b\n",
    "power = a ** b\n",
    "\n",
    "# Print results\n",
    "print(f\"Sum: {sum_result}\")\n",
    "print(f\"Difference: {difference}\")\n",
    "print(f\"Product: {product}\")\n",
    "print(f\"Quotient: {quotient}\")\n",
    "print(f\"Floor Division: {floor_div}\")\n",
    "print(f\"Remainder: {remainder}\")\n",
    "print(f\"Power: {power}\")\n",
    "print(sum_result)"
   ]
  },
  {
   "cell_type": "code",
   "execution_count": 23,
   "metadata": {},
   "outputs": [
    {
     "name": "stdout",
     "output_type": "stream",
     "text": [
      "Sum : 13\n",
      "Sum : 13\n",
      "Sum : 13\n"
     ]
    }
   ],
   "source": [
    "x = 10\n",
    "y = 3\n",
    "sum = x + y\n",
    "print(f\"Sum : {x+y}\")\n",
    "print(f\"Sum : {sum}\")\n",
    "print(\"Sum : %d\" % sum)"
   ]
  },
  {
   "cell_type": "code",
   "execution_count": 31,
   "metadata": {},
   "outputs": [
    {
     "name": "stdout",
     "output_type": "stream",
     "text": [
      "154.01999999999998\n"
     ]
    }
   ],
   "source": [
    "a = 99.35\n",
    "b = \"54.67\"\n",
    "sum = a + float(b)\n",
    "print(sum)\n"
   ]
  },
  {
   "cell_type": "code",
   "execution_count": 38,
   "metadata": {},
   "outputs": [
    {
     "name": "stdout",
     "output_type": "stream",
     "text": [
      "11111111\n"
     ]
    }
   ],
   "source": [
    "a = int(input(\"Enter a number: \"))\n",
    "binary = bin(a) [2:]\n",
    "print(binary)"
   ]
  },
  {
   "cell_type": "markdown",
   "metadata": {},
   "source": [
    "# some advance topics in integer\n"
   ]
  },
  {
   "cell_type": "code",
   "execution_count": 24,
   "metadata": {},
   "outputs": [
    {
     "name": "stdout",
     "output_type": "stream",
     "text": [
      "120\n",
      "12\n",
      "20\n"
     ]
    }
   ],
   "source": [
    "import math\n",
    "\n",
    "# Factorial\n",
    "print(math.factorial(5))  # Outputs: 120\n",
    "\n",
    "# GCD (Greatest Common Divisor)\n",
    "print(math.gcd(60, 48))    # Outputs: 12\n",
    "\n",
    "# LCM (Least Common Multiple)\n",
    "def lcm(a, b):\n",
    "    return abs(a * b) // math.gcd(a, b)\n",
    "\n",
    "print(lcm(4, 5))  # Outputs: 20"
   ]
  },
  {
   "cell_type": "code",
   "execution_count": 25,
   "metadata": {},
   "outputs": [
    {
     "name": "stdout",
     "output_type": "stream",
     "text": [
      "10000000000000000000000000000000000000000000000000000000000000000000000000000000000000000000000000000\n"
     ]
    }
   ],
   "source": [
    "large_number = 10**100  # 10 raised to the power of 100\n",
    "print(large_number)  # Outputs a very large integer"
   ]
  },
  {
   "cell_type": "code",
   "execution_count": 28,
   "metadata": {},
   "outputs": [
    {
     "name": "stdout",
     "output_type": "stream",
     "text": [
      "10.5 10\n",
      "52\n"
     ]
    }
   ],
   "source": [
    "x = 10.5\n",
    "y = int(x) #\n",
    "print(x,y)\n",
    "st = \"42\"\n",
    "sum = int(st) + y\n",
    "print(sum)"
   ]
  },
  {
   "cell_type": "markdown",
   "metadata": {},
   "source": [
    "# Floating point "
   ]
  },
  {
   "cell_type": "code",
   "execution_count": 9,
   "metadata": {},
   "outputs": [
    {
     "name": "stdout",
     "output_type": "stream",
     "text": [
      "3.14 -0.001 150.0 0.0025\n",
      "<class 'float'>\n"
     ]
    }
   ],
   "source": [
    "a = 3.14\n",
    "b = -0.001\n",
    "c = 1.5e2  # 150.0 # scientific notation\n",
    "d = 2.5e-3 # 0.0025 # scientific notation\n",
    "print(a,b,c,d)\n",
    "print(type(a))"
   ]
  },
  {
   "cell_type": "code",
   "execution_count": 13,
   "metadata": {},
   "outputs": [
    {
     "name": "stdout",
     "output_type": "stream",
     "text": [
      "<class 'float'>\n"
     ]
    }
   ],
   "source": []
  },
  {
   "cell_type": "code",
   "execution_count": 10,
   "metadata": {},
   "outputs": [
    {
     "name": "stdout",
     "output_type": "stream",
     "text": [
      "<class 'float'> <class 'float'> <class 'float'> <class 'float'>\n"
     ]
    }
   ],
   "source": [
    "print(type(a),type(b),type(c),type(d))"
   ]
  },
  {
   "cell_type": "code",
   "execution_count": 13,
   "metadata": {},
   "outputs": [
    {
     "name": "stdout",
     "output_type": "stream",
     "text": [
      "7.0 3.0 10.0 2.5 2.0 1.0 25.0\n"
     ]
    }
   ],
   "source": [
    "x = 5.0\n",
    "y = 2.0\n",
    "\n",
    "addition = x + y        # 7.0\n",
    "subtraction = x - y     # 3.0\n",
    "multiplication = x * y  # 10.0\n",
    "division = x / y        # 2.5\n",
    "floor_division = x // y # 2.0 (note: this returns a float)\n",
    "modulus = x % y         # 1.0\n",
    "exponentiation = x ** y # 25.0\n",
    "print(addition , subtraction , multiplication , division , floor_division , modulus , exponentiation )"
   ]
  },
  {
   "cell_type": "code",
   "execution_count": null,
   "metadata": {},
   "outputs": [],
   "source": []
  },
  {
   "cell_type": "code",
   "execution_count": 8,
   "metadata": {},
   "outputs": [
    {
     "name": "stdout",
     "output_type": "stream",
     "text": [
      "16\n"
     ]
    }
   ],
   "source": [
    "a = 20\n",
    "print(int(a,2))"
   ]
  },
  {
   "cell_type": "markdown",
   "metadata": {},
   "source": [
    "# Boolean type"
   ]
  },
  {
   "cell_type": "code",
   "execution_count": 5,
   "metadata": {},
   "outputs": [
    {
     "name": "stdout",
     "output_type": "stream",
     "text": [
      "<class 'bool'>\n",
      "<class 'bool'>\n"
     ]
    }
   ],
   "source": [
    "print(type(True))\n",
    "print(type(False))"
   ]
  },
  {
   "cell_type": "code",
   "execution_count": 6,
   "metadata": {},
   "outputs": [
    {
     "name": "stdout",
     "output_type": "stream",
     "text": [
      "False\n",
      "True\n",
      "False\n"
     ]
    }
   ],
   "source": [
    "a = True\n",
    "b = False\n",
    "print(a and b) # False\n",
    "print(a or b) # True\n",
    "print(not a) # False"
   ]
  },
  {
   "cell_type": "code",
   "execution_count": 7,
   "metadata": {},
   "outputs": [
    {
     "name": "stdout",
     "output_type": "stream",
     "text": [
      "False\n",
      "True\n",
      "False\n",
      "True\n",
      "False\n",
      "True\n"
     ]
    }
   ],
   "source": [
    "print(bool(0))        # False\n",
    "print(bool(1))        # True\n",
    "print(bool(\"\"))       # False\n",
    "print(bool(\"Hello\"))  # True\n",
    "print(bool([]))       # False\n",
    "print(bool([1, 2, 3])) # True"
   ]
  },
  {
   "cell_type": "markdown",
   "metadata": {},
   "source": [
    "# *string*"
   ]
  },
  {
   "cell_type": "markdown",
   "metadata": {},
   "source": [
    "\"The quick brown fox \"jumps\" over a lazy dog.\""
   ]
  },
  {
   "cell_type": "markdown",
   "metadata": {},
   "source": []
  },
  {
   "cell_type": "code",
   "execution_count": 12,
   "metadata": {},
   "outputs": [
    {
     "name": "stdout",
     "output_type": "stream",
     "text": [
      "Hello, world!\n",
      "The quick 'brown' fox \"jumps\" over a lazy dog.\n"
     ]
    }
   ],
   "source": [
    "a = 'Hello, world!'\n",
    "b = '''The quick 'brown' fox \"jumps\" over a lazy dog.'''\n",
    "print(a)\n",
    "print(b)"
   ]
  },
  {
   "cell_type": "code",
   "execution_count": 21,
   "metadata": {},
   "outputs": [
    {
     "name": "stdout",
     "output_type": "stream",
     "text": [
      ", world!\n"
     ]
    }
   ],
   "source": [
    "a = \"Hello, world!\"\n",
    "print(a[5:])    # H"
   ]
  },
  {
   "cell_type": "code",
   "execution_count": 25,
   "metadata": {},
   "outputs": [
    {
     "name": "stdout",
     "output_type": "stream",
     "text": [
      "Name: alice, Age: 20\n",
      "My name is alice and I am 20 years old.\n",
      "My age is alice and I am 20 years old.\n",
      "My name is alice and I am 20 years old.\n"
     ]
    }
   ],
   "source": [
    "name = \"alice\"\n",
    "age = 20\n",
    "print(f\"Name: {name}, Age: {age}\")\n",
    "print(\"My name is %s and I am %d years old.\" % (name, age))\n",
    "print(\"My age is %s and I am %d years old.\" % (name, age))\n",
    "print(\"My name is {} and I am {} years old.\".format(name, age))"
   ]
  },
  {
   "cell_type": "code",
   "execution_count": 5,
   "metadata": {},
   "outputs": [
    {
     "name": "stdout",
     "output_type": "stream",
     "text": [
      "AlanCSimpson\n"
     ]
    }
   ],
   "source": [
    "# Concatenating strings\n",
    "first_name = \"Alan\"\n",
    "middle_init = \"C\"\n",
    "last_name = \"Simpson\"\n",
    "full_name = first_name+middle_init+last_name\n",
    "print(full_name)\n"
   ]
  },
  {
   "cell_type": "code",
   "execution_count": 29,
   "metadata": {},
   "outputs": [
    {
     "name": "stdout",
     "output_type": "stream",
     "text": [
      "a b.  c\n"
     ]
    }
   ],
   "source": [
    "first  = \"a\"\n",
    "second = \"b\"\n",
    "third  = \"c\"\n",
    "print(first+\" \" + second +\".  \"+ third)"
   ]
  },
  {
   "cell_type": "code",
   "execution_count": 6,
   "metadata": {},
   "outputs": [
    {
     "name": "stdout",
     "output_type": "stream",
     "text": [
      "Alan C. Simpson\n"
     ]
    }
   ],
   "source": [
    "first_name = \"Alan\"\n",
    "middle_init = \"C\"\n",
    "last_name = \"Simpson\"\n",
    "full_name = first_name + \" \" + middle_init + \". \" + last_name\n",
    "print(full_name)"
   ]
  },
  {
   "cell_type": "code",
   "execution_count": 7,
   "metadata": {},
   "outputs": [
    {
     "name": "stdout",
     "output_type": "stream",
     "text": [
      "0\n",
      "1\n",
      "5\n"
     ]
    }
   ],
   "source": [
    "# get length of the string\n",
    "s1 = \"\"\n",
    "s2 = \" \"\n",
    "s3 = \"A B C\"\n",
    "print(len(s1))\n",
    "print(len(s2))\n",
    "print(len(s3))"
   ]
  },
  {
   "cell_type": "markdown",
   "metadata": {},
   "source": [
    "Python sequence operators that work with strings include concatenation, repetition, membership testing, slicing, and indexing. Here is an explanation and example code for each operator:\n",
    "\n",
    "1. **Concatenation (`+`)**:\n",
    "   Concatenates two strings.\n",
    "\n",
    "   ```python\n",
    "   str1 = \"Hello\"\n",
    "   str2 = \"World\"\n",
    "   result = str1 + \" \" + str2\n",
    "   print(result)  # Output: Hello World\n",
    "   ```\n",
    "\n",
    "2. **Repetition (`*`)**:\n",
    "   Repeats the string a specified number of times.\n",
    "\n",
    "   ```python\n",
    "   str1 = \"Hello\"\n",
    "   result = str1 * 3\n",
    "   print(result)  # Output: HelloHelloHello\n",
    "   ```\n",
    "\n",
    "3. **Membership Testing (`in` and `not in`)**:\n",
    "   Checks if a substring exists within a string.\n",
    "\n",
    "   ```python\n",
    "   str1 = \"Hello World\"\n",
    "   print(\"Hello\" in str1)  # Output: True\n",
    "   print(\"hello\" in str1)  # Output: False\n",
    "   print(\"hello\" not in str1)  # Output: True\n",
    "   ```\n",
    "\n",
    "4. **Slicing (`[:]`)**:\n",
    "   Extracts a part of the string using a range of indices.\n",
    "\n",
    "   ```python\n",
    "   str1 = \"Hello World\"\n",
    "   print(str1[0:5])  # Output: Hello\n",
    "   print(str1[6:])   # Output: World\n",
    "   print(str1[:5])   # Output: Hello\n",
    "   print(str1[-5:])  # Output: World\n",
    "   ```\n",
    "\n",
    "5. **Indexing (`[]`)**:\n",
    "   Accesses a specific character in the string by its index.\n",
    "\n",
    "   ```python\n",
    "   str1 = \"Hello World\"\n",
    "   print(str1[0])    # Output: H\n",
    "   print(str1[6])    # Output: W\n",
    "   print(str1[-1])   # Output: d\n",
    "   ```\n",
    "\n",
    "Here is the complete code demonstrating all these sequence operators:\n",
    "\n"
   ]
  },
  {
   "cell_type": "code",
   "execution_count": 8,
   "metadata": {},
   "outputs": [
    {
     "name": "stdout",
     "output_type": "stream",
     "text": [
      "Concatenation: Hello World\n",
      "Repetition: HelloHelloHello\n",
      "Membership Testing 'Hello' in str1: False\n",
      "Membership Testing 'hello' in str1: False\n",
      "Membership Testing 'hello' not in str1: True\n",
      "Slicing str1[0:5]: abcde\n",
      "Slicing str1[6:]: fghijkl\n",
      "Slicing str1[:5]: abcde\n",
      "Slicing str1[-5:]: hijkl\n",
      "abcde fghijkl\n",
      "Slicing str1[0:10:2]: acefh\n",
      "Indexing str1[0]: H\n",
      "Indexing str1[6]: W\n",
      "Indexing str1[-1]: d\n"
     ]
    }
   ],
   "source": [
    "\n",
    "\n",
    "# Concatenation\n",
    "str1 = \"Hello\"\n",
    "str2 = \"World\"\n",
    "result = str1 + \" \" + str2\n",
    "print(\"Concatenation:\", result)  # Output: Hello World\n",
    "\n",
    "# Repetition\n",
    "str1 = \"Hello\"\n",
    "result = str1 * 3\n",
    "print(\"Repetition:\", result)  # Output: HelloHelloHello\n",
    "\n",
    "# Membership Testing\n",
    "str1 = \"abcde fghijkl \"\n",
    "print(\"Membership Testing 'Hello' in str1:\", \"Hello\" in str1)  # Output: True\n",
    "print(\"Membership Testing 'hello' in str1:\", \"hello\" in str1)  # Output: False\n",
    "print(\"Membership Testing 'hello' not in str1:\", \"hello\" not in str1)  # Output: True\n",
    "\n",
    "# Slicing\n",
    "str1 = \"abcde fghijkl\"\n",
    "print(\"Slicing str1[0:5]:\", str1[0:5])  # Output: Hello\n",
    "print(\"Slicing str1[6:]:\", str1[6:])   # Output: World\n",
    "print(\"Slicing str1[:5]:\", str1[:5])   # Output: Hello\n",
    "print(\"Slicing str1[-5:]:\", str1[-5:])  # Output: World\n",
    "print(str1[:])\n",
    "print(\"Slicing str1[0:10:2]:\", str1[0:10:2])  # Output: HloWrd\n",
    "\n",
    "# Indexing\n",
    "str1 = \"Hello World\"\n",
    "print(\"Indexing str1[0]:\", str1[0])    # Output: H\n",
    "print(\"Indexing str1[6]:\", str1[6])    # Output: W\n",
    "print(\"Indexing str1[-1]:\", str1[-1])   # Output: d"
   ]
  },
  {
   "cell_type": "markdown",
   "metadata": {},
   "source": [
    "\n",
    "\n",
    "This code demonstrates how to use each of the sequence operators with strings in Python."
   ]
  },
  {
   "cell_type": "code",
   "execution_count": 9,
   "metadata": {},
   "outputs": [
    {
     "name": "stdout",
     "output_type": "stream",
     "text": [
      "ASCII 32:  \n",
      "ASCII 33: !\n",
      "ASCII 34: \"\n",
      "ASCII 35: #\n",
      "ASCII 36: $\n",
      "ASCII 37: %\n",
      "ASCII 38: &\n",
      "ASCII 39: '\n",
      "ASCII 40: (\n",
      "ASCII 41: )\n",
      "ASCII 42: *\n",
      "ASCII 43: +\n",
      "ASCII 44: ,\n",
      "ASCII 45: -\n",
      "ASCII 46: .\n",
      "ASCII 47: /\n",
      "ASCII 48: 0\n",
      "ASCII 49: 1\n",
      "ASCII 50: 2\n",
      "ASCII 51: 3\n",
      "ASCII 52: 4\n",
      "ASCII 53: 5\n",
      "ASCII 54: 6\n",
      "ASCII 55: 7\n",
      "ASCII 56: 8\n",
      "ASCII 57: 9\n",
      "ASCII 58: :\n",
      "ASCII 59: ;\n",
      "ASCII 60: <\n",
      "ASCII 61: =\n",
      "ASCII 62: >\n",
      "ASCII 63: ?\n",
      "ASCII 64: @\n",
      "ASCII 65: A\n",
      "ASCII 66: B\n",
      "ASCII 67: C\n",
      "ASCII 68: D\n",
      "ASCII 69: E\n",
      "ASCII 70: F\n",
      "ASCII 71: G\n",
      "ASCII 72: H\n",
      "ASCII 73: I\n",
      "ASCII 74: J\n",
      "ASCII 75: K\n",
      "ASCII 76: L\n",
      "ASCII 77: M\n",
      "ASCII 78: N\n",
      "ASCII 79: O\n",
      "ASCII 80: P\n",
      "ASCII 81: Q\n",
      "ASCII 82: R\n",
      "ASCII 83: S\n",
      "ASCII 84: T\n",
      "ASCII 85: U\n",
      "ASCII 86: V\n",
      "ASCII 87: W\n",
      "ASCII 88: X\n",
      "ASCII 89: Y\n",
      "ASCII 90: Z\n",
      "ASCII 91: [\n",
      "ASCII 92: \\\n",
      "ASCII 93: ]\n",
      "ASCII 94: ^\n",
      "ASCII 95: _\n",
      "ASCII 96: `\n",
      "ASCII 97: a\n",
      "ASCII 98: b\n",
      "ASCII 99: c\n",
      "ASCII 100: d\n",
      "ASCII 101: e\n",
      "ASCII 102: f\n",
      "ASCII 103: g\n",
      "ASCII 104: h\n",
      "ASCII 105: i\n",
      "ASCII 106: j\n",
      "ASCII 107: k\n",
      "ASCII 108: l\n",
      "ASCII 109: m\n",
      "ASCII 110: n\n",
      "ASCII 111: o\n",
      "ASCII 112: p\n",
      "ASCII 113: q\n",
      "ASCII 114: r\n",
      "ASCII 115: s\n",
      "ASCII 116: t\n",
      "ASCII 117: u\n",
      "ASCII 118: v\n",
      "ASCII 119: w\n",
      "ASCII 120: x\n",
      "ASCII 121: y\n",
      "ASCII 122: z\n",
      "ASCII 123: {\n",
      "ASCII 124: |\n",
      "ASCII 125: }\n",
      "ASCII 126: ~\n"
     ]
    }
   ],
   "source": [
    "# Define the range of ASCII values you want to print\n",
    "start = 32  # Starting from the first printable character\n",
    "end = 126   # Ending at the last printable character\n",
    "\n",
    "# Print the ASCII number and corresponding symbol\n",
    "for i in range(start, end + 1):\n",
    "    print(f\"ASCII {i}: {chr(i)}\")"
   ]
  },
  {
   "cell_type": "code",
   "execution_count": null,
   "metadata": {},
   "outputs": [],
   "source": []
  },
  {
   "cell_type": "markdown",
   "metadata": {},
   "source": [
    "Python provides a variety of built-in functions for manipulating strings. Here are some common string manipulation functions with explanations and examples:\n",
    "\n",
    "1. **`len()`**: Returns the length of the string.\n",
    "\n",
    "   ```python\n",
    "   s = \"Hello, World!\"\n",
    "   print(len(s))  # Output: 13\n",
    "   ```\n",
    "\n",
    "2. **`str.lower()`**: Converts all characters in the string to lowercase.\n",
    "\n",
    "   ```python\n",
    "   s = \"Hello, World!\"\n",
    "   print(s.lower())  # Output: hello, world!\n",
    "   ```\n",
    "\n",
    "3. **`str.upper()`**: Converts all characters in the string to uppercase.\n",
    "\n",
    "   ```python\n",
    "   s = \"Hello, World!\"\n",
    "   print(s.upper())  # Output: HELLO, WORLD!\n",
    "   ```\n",
    "\n",
    "4. **`str.capitalize()`**: Capitalizes the first character of the string.\n",
    "\n",
    "   ```python\n",
    "   s = \"hello, world!\"\n",
    "   print(s.capitalize())  # Output: Hello, world!\n",
    "   ```\n",
    "\n",
    "5. **`str.title()`**: Converts the first character of each word to uppercase.\n",
    "\n",
    "   ```python\n",
    "   s = \"hello, world!\"\n",
    "   print(s.title())  # Output: Hello, World!\n",
    "   ```\n",
    "\n",
    "6. **`str.strip()`**: Removes leading and trailing whitespace.\n",
    "\n",
    "   ```python\n",
    "   s = \"   Hello, World!   \"\n",
    "   print(s.strip())  # Output: Hello, World!\n",
    "   ```\n",
    "\n",
    "7. **`str.replace(old, new)`**: Replaces occurrences of a substring with another substring.\n",
    "\n",
    "   ```python\n",
    "   s = \"Hello, World!\"\n",
    "   print(s.replace(\"World\", \"Python\"))  # Output: Hello, Python!\n",
    "   ```\n",
    "\n",
    "8. **`str.split(separator)`**: Splits the string into a list of substrings based on the separator.\n",
    "\n",
    "   ```python\n",
    "   s = \"Hello, World!\"\n",
    "   print(s.split(\", \"))  # Output: ['Hello', 'World!']\n",
    "   ```\n",
    "\n",
    "9. **`str.join(iterable)`**: Joins elements of an iterable with the string as a separator.\n",
    "\n",
    "   ```python\n",
    "   words = [\"Hello\", \"World\"]\n",
    "   print(\", \".join(words))  # Output: Hello, World\n",
    "   ```\n",
    "\n",
    "10. **`str.find(sub)`**: Returns the lowest index of the substring if found, otherwise -1.\n",
    "\n",
    "    ```python\n",
    "    s = \"Hello, World!\"\n",
    "    print(s.find(\"World\"))  # Output: 7\n",
    "    print(s.find(\"Python\"))  # Output: -1\n",
    "    ```\n",
    "\n",
    "11. **`str.startswith(prefix)`**: Checks if the string starts with the specified prefix.\n",
    "\n",
    "    ```python\n",
    "    s = \"Hello, World!\"\n",
    "    print(s.startswith(\"Hello\"))  # Output: True\n",
    "    print(s.startswith(\"World\"))  # Output: False\n",
    "    ```\n",
    "\n",
    "12. **`str.endswith(suffix)`**: Checks if the string ends with the specified suffix.\n",
    "\n",
    "    ```python\n",
    "    s = \"Hello, World!\"\n",
    "    print(s.endswith(\"World!\"))  # Output: True\n",
    "    print(s.endswith(\"Hello\"))  # Output: False\n",
    "    ```\n",
    "\n",
    "Here is a complete example demonstrating these functions:\n",
    "\n"
   ]
  },
  {
   "cell_type": "code",
   "execution_count": 10,
   "metadata": {},
   "outputs": [
    {
     "name": "stdout",
     "output_type": "stream",
     "text": [
      "Length: 19\n",
      "Lowercase:    hello, world!   \n",
      "Uppercase:    HELLO, WORLD!   \n",
      "Capitalized:    hello, world!   \n",
      "Title Case:    Hello, World!   \n",
      "Stripped: Hello, World!\n",
      "Replaced:    Hello, Python!   \n",
      "Split: ['   Hello', 'World!   ']\n",
      "Joined: Hello, World\n",
      "Find 'World': 10\n",
      "Find 'Python': -1\n",
      "Starts with 'Hello': False\n",
      "Starts with '   Hello': True\n",
      "Ends with 'World!   ': True\n",
      "Ends with 'Hello': False\n"
     ]
    }
   ],
   "source": [
    "\n",
    "\n",
    "s = \"   Hello, World!   \"\n",
    "\n",
    "# Length of the string\n",
    "print(\"Length:\", len(s))  # Output: 18\n",
    "\n",
    "# Convert to lowercase\n",
    "print(\"Lowercase:\", s.lower())  # Output:    hello, world!   \n",
    "\n",
    "# Convert to uppercase\n",
    "print(\"Uppercase:\", s.upper())  # Output:    HELLO, WORLD!   \n",
    "\n",
    "# Capitalize the first character\n",
    "print(\"Capitalized:\", s.capitalize())  # Output:    hello, world!   \n",
    "\n",
    "# Title case\n",
    "print(\"Title Case:\", s.title())  # Output:    Hello, World!   \n",
    "\n",
    "# Strip leading and trailing whitespace\n",
    "print(\"Stripped:\", s.strip())  # Output: Hello, World!\n",
    "\n",
    "# Replace substring\n",
    "print(\"Replaced:\", s.replace(\"World\", \"Python\"))  # Output:    Hello, Python!   \n",
    "\n",
    "# Split the string\n",
    "print(\"Split:\", s.split(\", \"))  # Output: ['   Hello', 'World!   ']\n",
    "\n",
    "# Join a list of strings\n",
    "words = [\"Hello\", \"World\"]\n",
    "print(\"Joined:\", \", \".join(words))  # Output: Hello, World\n",
    "\n",
    "# Find a substring\n",
    "print(\"Find 'World':\", s.find(\"World\"))  # Output: 10\n",
    "print(\"Find 'Python':\", s.find(\"Python\"))  # Output: -1\n",
    "\n",
    "# Check if the string starts with a prefix\n",
    "print(\"Starts with 'Hello':\", s.startswith(\"Hello\"))  # Output: False\n",
    "print(\"Starts with '   Hello':\", s.startswith(\"   Hello\"))  # Output: True\n",
    "\n",
    "# Check if the string ends with a suffix\n",
    "print(\"Ends with 'World!   ':\", s.endswith(\"World!   \"))  # Output: True\n",
    "print(\"Ends with 'Hello':\", s.endswith(\"Hello\"))  # Output: False"
   ]
  },
  {
   "cell_type": "markdown",
   "metadata": {},
   "source": [
    "\n",
    "\n",
    "This code demonstrates various built-in string manipulation functions in Python, showing how to use each one with examples."
   ]
  },
  {
   "cell_type": "code",
   "execution_count": 16,
   "metadata": {},
   "outputs": [
    {
     "name": "stdout",
     "output_type": "stream",
     "text": [
      "Hello, Python!\n",
      "['Hello', 'World!']\n",
      "Mango, Orange\n",
      "7\n",
      "12\n",
      "True\n",
      "False\n",
      "True\n",
      "True\n"
     ]
    }
   ],
   "source": [
    "s = input(\"Enter a string: \")\n",
    "print(s.replace(\"World\",\"Python\"))\n",
    "print(s.split(\", \"))\n",
    "words = [\"Mango\",\"Orange\"]\n",
    "print(\", \".join(words))\n",
    "print(s.find(\"World!\"))\n",
    "print(s.find(\"!\"))\n",
    "print(s.startswith(\"Hello\"))\n",
    "print(s.startswith(\"e\"))\n",
    "print(s.endswith(\"World!\"))\n",
    "print(s.endswith(\"!\"))\n",
    "\n"
   ]
  },
  {
   "cell_type": "markdown",
   "metadata": {},
   "source": [
    "# String built-in functions"
   ]
  },
  {
   "cell_type": "code",
   "execution_count": null,
   "metadata": {},
   "outputs": [],
   "source": []
  },
  {
   "cell_type": "markdown",
   "metadata": {},
   "source": [
    "# List"
   ]
  },
  {
   "cell_type": "code",
   "execution_count": 1,
   "metadata": {},
   "outputs": [
    {
     "name": "stdout",
     "output_type": "stream",
     "text": [
      "Empty list: []\n",
      "Mixed list: [1, 'two', 3.0, True]\n",
      "First element: 1\n",
      "Last element: True\n",
      "After append: [1, 'two', 3.0, True, 'new element']\n",
      "After extend: [1, 'two', 3.0, True, 'new element', False, None]\n",
      "After insert: [1, 'two', 'inserted', 3.0, True, 'new element', False, None]\n",
      "After remove: [1, 'two', 3.0, True, 'new element', False, None]\n",
      "Popped element: new element\n",
      "After pop: [1, 'two', 3.0, True, False, None]\n",
      "After clear: []\n",
      "Index of 3: 2\n",
      "Count of 2: 1\n",
      "Sorted list: [1, 2, 3, 4, 5]\n",
      "Reversed list: [5, 4, 3, 2, 1]\n",
      "Copied list: [5, 4, 3, 2, 1]\n",
      "Student grades: [85, 92, 78, 90]\n",
      "Shopping cart: ['apple', 'banana']\n",
      "Squared numbers: [1, 4, 9, 16, 25]\n",
      "Even numbers: [0, 2, 4, 6, 8]\n",
      "Combined lists: [(1, 'a'), (2, 'b'), (3, 'c')]\n",
      "Index: 0, Value: 5\n",
      "Index: 1, Value: 4\n",
      "Index: 2, Value: 3\n",
      "Index: 3, Value: 2\n",
      "Index: 4, Value: 1\n"
     ]
    }
   ],
   "source": [
    "# Python Lists: A Comprehensive Guide\n",
    "\n",
    "# 1. Introduction to Lists\n",
    "# Lists are one of Python's most versatile built-in data structures.\n",
    "# They are ordered, mutable collections of items that can be of any data type.\n",
    "\n",
    "# 2. Creating Lists\n",
    "# Empty list\n",
    "empty_list = []\n",
    "print(\"Empty list:\", empty_list)\n",
    "\n",
    "# List with mixed data types\n",
    "mixed_list = [1, \"two\", 3.0, True]\n",
    "print(\"Mixed list:\", mixed_list)\n",
    "\n",
    "# 3. Accessing Elements\n",
    "# Access by index\n",
    "print(\"First element:\", mixed_list[0])  # Output: 1\n",
    "print(\"Last element:\", mixed_list[-1])  # Output: True\n",
    "\n",
    "# 4. List Operations\n",
    "\n",
    "## 4.1 Adding Elements\n",
    "# Append to end\n",
    "mixed_list.append(\"new element\")\n",
    "print(\"After append:\", mixed_list)\n",
    "\n",
    "# Extend with another iterable\n",
    "mixed_list.extend([False, None])\n",
    "print(\"After extend:\", mixed_list)\n",
    "\n",
    "# Insert at specific position\n",
    "mixed_list.insert(2, \"inserted\")\n",
    "print(\"After insert:\", mixed_list)\n",
    "\n",
    "## 4.2 Removing Elements\n",
    "# Remove by value \n",
    "mixed_list.remove(\"inserted\")\n",
    "print(\"After remove:\", mixed_list)\n",
    "\n",
    "# Remove by index\n",
    "popped_element = mixed_list.pop(4)\n",
    "print(\"Popped element:\", popped_element)\n",
    "print(\"After pop:\", mixed_list)\n",
    "\n",
    "# Clear the list\n",
    "mixed_list.clear()\n",
    "print(\"After clear:\", mixed_list)\n",
    "\n",
    "## 4.3 Searching for Elements\n",
    "# Find index of an element\n",
    "my_list = [1, 2, 3, 4, 5]\n",
    "print(\"Index of 3:\", my_list.index(3))  # Output: 2\n",
    "\n",
    "# Count occurrences\n",
    "print(\"Count of 2:\", my_list.count(2))  # Output: 1\n",
    "\n",
    "## 4.4 Modifying the List\n",
    "# Sort the list\n",
    "my_list.sort()\n",
    "print(\"Sorted list:\", my_list)\n",
    "\n",
    "# Reverse the list\n",
    "my_list.reverse()\n",
    "print(\"Reversed list:\", my_list)\n",
    "\n",
    "# Copy the list\n",
    "copied_list = my_list.copy()\n",
    "print(\"Copied list:\", copied_list)\n",
    "\n",
    "# 5. Built-in List Methods\n",
    "\n",
    "# Method\tDescription\n",
    "# append()\tAdds an element to the end\n",
    "# extend()\tAdds all elements of another iterable\n",
    "# insert()\tAdds an element at the specified position\n",
    "# remove()\tRemoves the first occurrence of an element\n",
    "# pop()\tRemoves and returns an element at the given index\n",
    "# clear()\tRemoves all elements\n",
    "# index()\tReturns the index of the first occurrence\n",
    "# count()\tReturns the count of elements\n",
    "# sort()\tSorts the list in ascending order\n",
    "# reverse()\tReverses the list\n",
    "# copy()\tReturns a shallow copy\n",
    "# len()\tReturns the number of elements\n",
    "\n",
    "# 6. Common Use Cases\n",
    "\n",
    "## 6.1 Storing Related Data\n",
    "student_grades = [85, 92, 78, 90]\n",
    "print(\"Student grades:\", student_grades)\n",
    "\n",
    "## 6.2 Dynamic Data Handling\n",
    "shopping_cart = []\n",
    "shopping_cart.append(\"apple\")\n",
    "shopping_cart.append(\"banana\")\n",
    "print(\"Shopping cart:\", shopping_cart)\n",
    "\n",
    "## 6.3 Data Transformation\n",
    "numbers = [1, 2, 3, 4, 5]\n",
    "squared_numbers = [x**2 for x in numbers]\n",
    "print(\"Squared numbers:\", squared_numbers)\n",
    "\n",
    "# 7. Best Practices\n",
    "\n",
    "# - Use lists when you need ordered, mutable collections\n",
    "# - Prefer list comprehensions for concise and readable code\n",
    "# - Avoid using lists for large datasets (use specialized libraries like NumPy)\n",
    "# - Be mindful of list immutability when working with references\n",
    "\n",
    "# 8. Tips and Tricks\n",
    "\n",
    "## 8.1 List Comprehensions\n",
    "# Compact way to create and manipulate lists\n",
    "even_numbers = [x for x in range(10) if x % 2 == 0]\n",
    "print(\"Even numbers:\", even_numbers)\n",
    "\n",
    "## 8.2 Using zip() to Combine Lists\n",
    "list1 = [1, 2, 3]\n",
    "list2 = [\"a\", \"b\", \"c\"]\n",
    "combined = list(zip(list1, list2))\n",
    "print(\"Combined lists:\", combined)  # Output: [(1, 'a'), (2, 'b'), (3, 'c')]\n",
    "\n",
    "## 8.3 Using enumerate() for Index-Value Pairs\n",
    "for index, value in enumerate(my_list):\n",
    "    print(f\"Index: {index}, Value: {value}\")\n",
    "\n",
    "# 9. Common Pitfalls\n",
    "\n",
    "# - Forgetting that lists are mutable\n",
    "# - Using list methods incorrectly (e.g., remove() vs pop())\n",
    "# - Not handling empty lists properly\n",
    "# - Using lists for lookups (use sets or dictionaries instead)\n",
    "\n",
    "# 10. Summary\n",
    "\n",
    "# Key Takeaways:\n",
    "# - Lists are ordered, mutable collections\n",
    "# - Use built-in methods for efficient operations\n",
    "# - Leverage list comprehensions for concise code\n",
    "# - Choose the right data structure for your use case"
   ]
  },
  {
   "cell_type": "markdown",
   "metadata": {},
   "source": [
    "# built-in methods for list (another example)"
   ]
  },
  {
   "cell_type": "code",
   "execution_count": 2,
   "metadata": {},
   "outputs": [
    {
     "name": "stdout",
     "output_type": "stream",
     "text": [
      "Initial list: [1, 2, 3, 4, 5]\n",
      "After append: [1, 2, 3, 4, 5, 6]\n",
      "After extend: [1, 2, 3, 4, 5, 6, 7, 8, 9]\n",
      "After insert: [1, 2, 10, 3, 4, 5, 6, 7, 8, 9]\n",
      "After remove: [1, 2, 3, 4, 5, 6, 7, 8, 9]\n",
      "Popped element: 5\n",
      "After pop: [1, 2, 3, 4, 6, 7, 8, 9]\n",
      "After clear: []\n",
      "Index of 3: 2\n",
      "Count of 2: 1\n",
      "After sort: [1, 2, 3, 4, 5]\n",
      "After reverse: [5, 4, 3, 2, 1]\n",
      "Copied list: [5, 4, 3, 2, 1]\n",
      "Length of list: 5\n",
      "Converted from tuple: [1, 2, 3]\n",
      "Sum of elements: 15\n",
      "Minimum element: 1\n",
      "Maximum element: 5\n",
      "Any() result: True\n",
      "All() result: True\n",
      "Index: 0, Value: 5\n",
      "Index: 1, Value: 4\n",
      "Index: 2, Value: 3\n",
      "Index: 3, Value: 2\n",
      "Index: 4, Value: 1\n",
      "Zipped result: [(1, 'a'), (2, 'b'), (3, 'c')]\n"
     ]
    }
   ],
   "source": [
    "# Python List Use Cases and Built-in Functions\n",
    "\n",
    "# Initialize a list\n",
    "my_list = [1, 2, 3, 4, 5]\n",
    "print(\"Initial list:\", my_list)\n",
    "\n",
    "# 1. append() - Add an element to the end of the list\n",
    "my_list.append(6)\n",
    "print(\"After append:\", my_list)\n",
    "\n",
    "# 2. extend() - Add all elements of another iterable to the end\n",
    "another_list = [7, 8, 9]\n",
    "my_list.extend(another_list)\n",
    "print(\"After extend:\", my_list)\n",
    "\n",
    "# 3. insert() - Insert an element at a specific position\n",
    "my_list.insert(2, 10)\n",
    "print(\"After insert:\", my_list)\n",
    "\n",
    "# 4. remove() - Remove the first occurrence of an element\n",
    "my_list.remove(10)\n",
    "print(\"After remove:\", my_list)\n",
    "\n",
    "# 5. pop() - Remove and return an element at a given index\n",
    "popped_element = my_list.pop(4)\n",
    "print(\"Popped element:\", popped_element)\n",
    "print(\"After pop:\", my_list)\n",
    "\n",
    "# 6. clear() - Remove all elements from the list\n",
    "my_list.clear()\n",
    "print(\"After clear:\", my_list)\n",
    "\n",
    "# 7. index() - Return the index of the first occurrence of an element\n",
    "my_list = [1, 2, 3, 4, 5]\n",
    "index = my_list.index(3)\n",
    "print(\"Index of 3:\", index)\n",
    "\n",
    "# 8. count() - Return the count of elements in the list\n",
    "count = my_list.count(2)\n",
    "print(\"Count of 2:\", count)\n",
    "\n",
    "# 9. sort() - Sort the list in ascending order\n",
    "my_list = [5, 3, 1, 4, 2]\n",
    "my_list.sort()\n",
    "print(\"After sort:\", my_list)\n",
    "\n",
    "# 10. reverse() - Reverse the elements of the list\n",
    "my_list.reverse()\n",
    "print(\"After reverse:\", my_list)\n",
    "\n",
    "# 11. copy() - Return a shallow copy of the list\n",
    "copied_list = my_list.copy()\n",
    "print(\"Copied list:\", copied_list)\n",
    "\n",
    "# 12. len() - Return the number of elements in the list\n",
    "length = len(my_list)\n",
    "print(\"Length of list:\", length)\n",
    "\n",
    "# 13. list() - Convert an iterable to a list\n",
    "tuple_data = (1, 2, 3)\n",
    "list_data = list(tuple_data)\n",
    "print(\"Converted from tuple:\", list_data)\n",
    "\n",
    "# 14. sum() - Return the sum of all elements\n",
    "total = sum(my_list)\n",
    "print(\"Sum of elements:\", total)\n",
    "\n",
    "# 15. min() - Return the minimum element\n",
    "minimum = min(my_list)\n",
    "print(\"Minimum element:\", minimum)\n",
    "\n",
    "# 16. max() - Return the maximum element\n",
    "maximum = max(my_list)\n",
    "print(\"Maximum element:\", maximum)\n",
    "\n",
    "# 17. any() - Return True if any element is true\n",
    "result = any([0, False, 5])\n",
    "print(\"Any() result:\", result)\n",
    "\n",
    "# 18. all() - Return True if all elements are true\n",
    "result = all([True, 1, \"non-empty\"])\n",
    "print(\"All() result:\", result)\n",
    "\n",
    "# 19. enumerate() - Return index and value of elements\n",
    "for index, value in enumerate(my_list):\n",
    "    print(f\"Index: {index}, Value: {value}\")\n",
    "\n",
    "# 20. zip() - Combine lists into tuples\n",
    "list1 = [1, 2, 3]\n",
    "list2 = [\"a\", \"b\", \"c\"]\n",
    "zipped = zip(list1, list2)\n",
    "print(\"Zipped result:\", list(zipped))"
   ]
  },
  {
   "cell_type": "markdown",
   "metadata": {},
   "source": [
    "# Python Tuples\n",
    "\n",
    "Tuples are one of Python's built-in data structures, used to store collections of items. They are similar to lists but are **immutable**, meaning their values cannot be changed after creation.\n",
    "\n",
    "---\n",
    "\n",
    "## Table of Contents\n",
    "1. [Introduction to Tuples](#introduction-to-tuples)\n",
    "2. [Creating Tuples](#creating-tuples)\n",
    "3. [Accessing Tuple Elements](#accessing-tuple-elements)\n",
    "4. [Tuple Operations](#tuple-operations)\n",
    "5. [Tuple Methods](#tuple-methods)\n",
    "6. [Use Cases for Tuples](#use-cases-for-tuples)\n",
    "7. [Best Practices](#best-practices)\n",
    "8. [Common Pitfalls](#common-pitfalls)\n",
    "9. [Summary](#summary)\n",
    "\n",
    "---\n",
    "\n",
    "## Introduction to Tuples\n",
    "\n",
    "- Tuples are ordered collections of items, enclosed in parentheses `()`.\n",
    "- They can store items of different data types (heterogeneous data).\n",
    "- Unlike lists, tuples are **immutable**, which means you cannot modify, add, or remove elements after creation.\n",
    "- Tuples are useful when you need to ensure data integrity and prevent accidental modifications.\n",
    "\n",
    "---\n",
    "\n",
    "## Creating Tuples\n",
    "\n",
    "### Empty Tuple\n",
    "```python\n",
    "empty_tuple = ()\n",
    "print(type(empty_tuple))  # Output: <class 'tuple'>"
   ]
  },
  {
   "cell_type": "code",
   "execution_count": null,
   "metadata": {},
   "outputs": [],
   "source": [
    "# Create an empty tuple\n",
    "empty_tuple = ()\n",
    "print(type(empty_tuple))  # Expected Output: <class 'tuple'>\n",
    "print(len(empty_tuple))    # Expected Output: 0"
   ]
  },
  {
   "cell_type": "code",
   "execution_count": null,
   "metadata": {},
   "outputs": [],
   "source": [
    "# Create a single-element tuple\n",
    "single_tuple = (5,)\n",
    "print(single_tuple)         # Expected Output: (5,)\n",
    "print(len(single_tuple))    # Expected Output: 1"
   ]
  },
  {
   "cell_type": "code",
   "execution_count": null,
   "metadata": {},
   "outputs": [],
   "source": [
    "# Create a tuple with multiple elements\n",
    "multi_tuple = (1, \"two\", 3.0, True)\n",
    "print(multi_tuple)          # Expected Output: (1, 'two', 3.0, True)\n",
    "print(len(multi_tuple))     # Expected Output: 4"
   ]
  },
  {
   "cell_type": "code",
   "execution_count": null,
   "metadata": {},
   "outputs": [],
   "source": [
    "# Convert a list to a tuple\n",
    "list_data = [1, 2, 3]\n",
    "print(type(list_data)) # Expected Output: <class 'list'>\n",
    "tuple_data = tuple(list_data)\n",
    "print(tuple_data)           # Expected Output: (1, 2, 3)\n",
    "print(type(tuple_data))     # Expected Output: <class 'tuple'>"
   ]
  },
  {
   "cell_type": "code",
   "execution_count": null,
   "metadata": {},
   "outputs": [],
   "source": [
    "# Access elements by index\n",
    "my_tuple = (1, 2, 3, 4, 5)\n",
    "print(my_tuple[0])          # Expected Output: 1\n",
    "print(my_tuple[2])          # Expected Output: 3"
   ]
  },
  {
   "cell_type": "code",
   "execution_count": null,
   "metadata": {},
   "outputs": [],
   "source": [
    "# Access elements using negative indices\n",
    "print(my_tuple[-1])         # Expected Output: 5\n",
    "print(my_tuple[-3])         # Expected Output: 3"
   ]
  },
  {
   "cell_type": "code",
   "execution_count": null,
   "metadata": {},
   "outputs": [],
   "source": [
    "# Slice the tuple\n",
    "print(my_tuple[1:4])        # Expected Output: (2, 3, 4)\n",
    "print(my_tuple[:3])         # Expected Output: (1, 2, 3)\n",
    "print(my_tuple[2:])         # Expected Output: (3, 4, 5)"
   ]
  },
  {
   "cell_type": "code",
   "execution_count": null,
   "metadata": {},
   "outputs": [],
   "source": [
    "# Concatenate tuples\n",
    "tuple1 = (1, 2)\n",
    "tuple2 = (3, 4)\n",
    "combined = tuple1 + tuple2\n",
    "print(combined)             # Expected Output: (1, 2, 3, 4)"
   ]
  },
  {
   "cell_type": "code",
   "execution_count": null,
   "metadata": {},
   "outputs": [],
   "source": [
    "# Repeat elements in a tuple\n",
    "repeated = (\"a\",) * 3\n",
    "print(repeated)             # Expected Output: ('a', 'a', 'a')"
   ]
  },
  {
   "cell_type": "code",
   "execution_count": null,
   "metadata": {},
   "outputs": [],
   "source": [
    "# Test for membership\n",
    "print(2 in my_tuple)         # Expected Output: True\n",
    "print(6 not in my_tuple)     # Expected Output: True"
   ]
  },
  {
   "cell_type": "markdown",
   "metadata": {},
   "source": [
    "# built in Methods"
   ]
  },
  {
   "cell_type": "code",
   "execution_count": null,
   "metadata": {},
   "outputs": [],
   "source": [
    "# Count occurrences of an element\n",
    "count_tuple = (1, 2, 2, 3, 4)\n",
    "print(count_tuple.count(2)) # Expected Output: 2"
   ]
  },
  {
   "cell_type": "code",
   "execution_count": null,
   "metadata": {},
   "outputs": [],
   "source": [
    "# Find the index of an element\n",
    "print(count_tuple.index(3)) # Expected Output: 3"
   ]
  }
 ],
 "metadata": {
  "kernelspec": {
   "display_name": "Python 3",
   "language": "python",
   "name": "python3"
  },
  "language_info": {
   "codemirror_mode": {
    "name": "ipython",
    "version": 3
   },
   "file_extension": ".py",
   "mimetype": "text/x-python",
   "name": "python",
   "nbconvert_exporter": "python",
   "pygments_lexer": "ipython3",
   "version": "3.12.0"
  }
 },
 "nbformat": 4,
 "nbformat_minor": 2
}
